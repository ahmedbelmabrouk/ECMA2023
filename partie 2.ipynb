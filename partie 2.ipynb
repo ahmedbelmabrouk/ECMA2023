{
 "cells": [
  {
   "cell_type": "code",
   "execution_count": 1,
   "metadata": {},
   "outputs": [
    {
     "data": {
      "text/plain": [
       "(10, 2, 87, 3, [1.47239, 0.82384, 0.147042, 1.11452, 1.35826, 1.95929, 1.98969, 1.54618, 2.14362, 1.6074], [4, 14, 3, 2, 20, 5, 14, 10, 10, 18], 9, [38.24 20.42; 39.57 26.15; … ; 41.23 9.1; 41.17 13.05])"
      ]
     },
     "metadata": {},
     "output_type": "display_data"
    }
   ],
   "source": [
    "include(\"data/10_ulysses_3.tsp\")\n",
    "n,L,B,K,W_v,w_v,W,coordinates"
   ]
  },
  {
   "cell_type": "code",
   "execution_count": 2,
   "metadata": {},
   "outputs": [],
   "source": [
    "using JuMP\n",
    "using CPLEX"
   ]
  },
  {
   "cell_type": "code",
   "execution_count": 3,
   "metadata": {},
   "outputs": [
    {
     "data": {
      "text/plain": [
       "distance (generic function with 1 method)"
      ]
     },
     "metadata": {},
     "output_type": "display_data"
    }
   ],
   "source": [
    "function distance(n::Int64,coordinates::Matrix{Float64})\n",
    "    l=Matrix{Float64}(zeros(n,n))\n",
    "    for i in 1:n\n",
    "        for j in 1:n\n",
    "            l[i,j]=sqrt((coordinates[i,1]-coordinates[j,1])^2+(coordinates[i,2]-coordinates[j,2])^2)\n",
    "        end \n",
    "    end \n",
    "    return l\n",
    "end"
   ]
  },
  {
   "cell_type": "code",
   "execution_count": 4,
   "metadata": {},
   "outputs": [
    {
     "data": {
      "text/plain": [
       "10×10 Matrix{Float64}:\n",
       "  0.0        5.88233   5.42148   3.34819  …   0.720278  11.7082    7.93107\n",
       "  5.88233    0.0       1.2919    4.48743      6.06684   17.1306   13.1973\n",
       "  5.42148    1.2919    0.0       4.83011      5.74943   16.2338   12.2852\n",
       "  3.34819    4.48743   4.83011   0.0          2.96142   14.8749   11.2033\n",
       " 10.9669    16.7559   16.3883   12.8835      10.6926     7.88265   8.08926\n",
       "  8.25804   14.104    13.4684   11.007    …   8.2501     4.7976    3.71102\n",
       "  7.31222   13.0906   12.3961   10.2404       7.38505    4.89655   2.75065\n",
       "  0.720278   6.06684   5.74943   2.96142      0.0       11.9315    8.24224\n",
       " 11.7082    17.1306   16.2338   14.8749      11.9315     0.0       3.95046\n",
       "  7.93107   13.1973   12.2852   11.2033       8.24224    3.95046   0.0"
      ]
     },
     "metadata": {},
     "output_type": "display_data"
    }
   ],
   "source": [
    "l=distance(n,coordinates)"
   ]
  },
  {
   "cell_type": "code",
   "execution_count": 5,
   "metadata": {},
   "outputs": [
    {
     "data": {
      "text/plain": [
       "resolution_statique (generic function with 1 method)"
      ]
     },
     "metadata": {},
     "output_type": "display_data"
    }
   ],
   "source": [
    "function resolution_statique(n,L,B,K,W_v,w_v,W,coordinates)\n",
    "    \n",
    "    l=distance(n,coordinates)\n",
    "    m=Model(optimizer_with_attributes(CPLEX.Optimizer, \"CPX_PARAM_MIPDISPLAY\" =>2,\"CPX_PARAM_TILIM\" => 900))\n",
    "    @variable(m,x[i=1:n,j=1:n],Bin)\n",
    "    @variable(m,y[i=1:n,k=1:K],Bin)\n",
    "    @constraint(m,[i=1:n,j=1:n,k=1:K],x[i,j]+y[i,k]-y[j,k]<=1)\n",
    "    @constraint(m,[i=1:n,j=1:n,k=1:K],x[i,j]-y[i,k]+y[j,k]<=1)\n",
    "    @constraint(m,[i=1:n,j=1:n,k=1:K],-x[i,j]+y[i,k]+y[j,k]<=1)\n",
    "    @constraint(m,[k=1:K],sum(w_v[i]*y[i,k] for i=1:n)<=B)\n",
    "    @constraint(m,[i=1:n],sum(y[i,k] for k=1:K)==1)\n",
    "    @objective(m,Min,sum(l[i,j]*x[i,j] for i=1:n,j=1:n))\n",
    "    return m \n",
    "end"
   ]
  },
  {
   "cell_type": "code",
   "execution_count": 6,
   "metadata": {},
   "outputs": [
    {
     "data": {
      "text/plain": [
       "resolution_dualite (generic function with 1 method)"
      ]
     },
     "metadata": {},
     "output_type": "display_data"
    }
   ],
   "source": [
    "function resolution_dualite(n,L,B,K,W_v,w_v,W,coordinates)\n",
    "    l=distance(n,coordinates)\n",
    "    m=Model(optimizer_with_attributes(CPLEX.Optimizer, \"CPX_PARAM_MIPDISPLAY\" =>2,\"CPX_PARAM_TILIM\" => 900))\n",
    "    @variable(m,alpha>=0)\n",
    "    @variable(m,beta[i=1:n,j=1:n]>=0)\n",
    "    @variable(m,x[i=1:n,j=1:n],Bin)\n",
    "    @variable(m,y[i=1:n,k=1:K],Bin)\n",
    "    @variable(m,gamma[k=1:K]>=0)\n",
    "    @variable(m,phi[i=1:n,k=1:K]>=0)\n",
    "\n",
    "\n",
    "\n",
    "    @constraint(m,[i=1:n,j=1:n,k=1:K],x[i,j]+y[i,k]-y[j,k]<=1)\n",
    "    @constraint(m,[i=1:n,j=1:n,k=1:K],x[i,j]-y[i,k]+y[j,k]<=1)\n",
    "    @constraint(m,[i=1:n,j=1:n,k=1:K],-x[i,j]+y[i,k]+y[j,k]<=1)\n",
    "    @constraint(m,[i=1:n,j=1:n],alpha+beta[i,j]>=(lh[i]+lh[j])*x[i,j])\n",
    "    @constraint(m,[k=1:K],sum(w_v[i]*y[i,k]+W_v[i]*phi[i,k] for i=1:n)+W*gamma[k]<=B)\n",
    "    @constraint(m,[i=1:n,k=1:K],gamma[k]+phi[i,k]>=w_v[i]*y[i,k])\n",
    "    @constraint(m,[i=1:n],sum(y[i,k] for k=1:K)==1)\n",
    "\n",
    "    @objective(m,Min,sum(l[i,j]*x[i,j]+3*beta[i,j] for i=1:n,j=1:n)+L*alpha)\n",
    "    return m\n",
    "end"
   ]
  },
  {
   "cell_type": "code",
   "execution_count": null,
   "metadata": {},
   "outputs": [],
   "source": []
  },
  {
   "cell_type": "code",
   "execution_count": 7,
   "metadata": {},
   "outputs": [
    {
     "name": "stdout",
     "output_type": "stream",
     "text": [
      "Version identifier: 22.1.0.0 | 2022-03-09 | 1a383f8ce\r\n",
      "CPXPARAM_TimeLimit                               900\r\n",
      "Tried aggregator 1 time.\r\n",
      "MIP Presolve eliminated 90 rows and 10 columns.\r\n",
      "MIP Presolve modified 24 coefficients.\r\n",
      "Reduced MIP has 823 rows, 120 columns, and 2490 nonzeros.\r\n",
      "Reduced MIP has 120 binaries, 0 generals, 0 SOSs, and 0 indicators.\r\n",
      "Presolve time = 0.00 sec. (1.14 ticks)\r\n",
      "Found incumbent of value 220.697504 after 0.02 sec. (3.07 ticks)\r\n",
      "Probing time = 0.00 sec. (0.20 ticks)\r\n",
      "Tried aggregator 1 time.\r\n",
      "Detecting symmetries...\r\n",
      "Reduced MIP has 823 rows, 120 columns, and 2490 nonzeros.\r\n",
      "Reduced MIP has 120 binaries, 0 generals, 0 SOSs, and 0 indicators.\r\n",
      "Presolve time = 0.00 sec. (4.02 ticks)\r\n",
      "Probing time = 0.00 sec. (0.20 ticks)\r\n",
      "Clique table members: 10.\r\n",
      "MIP emphasis: balance optimality and feasibility.\r\n",
      "MIP search method: dynamic search.\r\n",
      "Parallel mode: deterministic, using up to 8 threads.\r\n",
      "Root relaxation solution time = 0.00 sec. (1.33 ticks)\r\n",
      "\r\n",
      "        Nodes                                         Cuts/\r\n",
      "   Node  Left     Objective  IInf  Best Integer    Best Bound    ItCnt     Gap\r\n",
      "\r\n",
      "*     0+    0                          220.6975        0.0000           100.00%\r\n",
      "*     0+    0                          171.5722        0.0000           100.00%\r\n",
      "*     0+    0                          131.4281        0.0000           100.00%\r\n",
      "      0     0        0.0000    20      131.4281        0.0000       18  100.00%\r\n",
      "      0     0        0.0000    27      131.4281       Cuts: 4       26  100.00%\r\n",
      "      0     0        0.0000    24      131.4281      Cuts: 35       58  100.00%\r\n",
      "      0     0        0.0000    30      131.4281      Cuts: 29       90  100.00%\r\n",
      "*     0+    0                          108.7096        0.0000           100.00%\r\n",
      "\r\n",
      "Repeating presolve.\r\n",
      "Tried aggregator 2 times.\r\n",
      "MIP Presolve eliminated 478 rows and 48 columns.\r\n",
      "MIP Presolve modified 24 coefficients.\r\n",
      "Aggregator did 9 substitutions.\r\n",
      "Reduced MIP has 336 rows, 63 columns, and 1026 nonzeros.\r\n",
      "Reduced MIP has 63 binaries, 0 generals, 0 SOSs, and 0 indicators.\r\n",
      "Presolve time = 0.00 sec. (2.24 ticks)\r\n",
      "Probing time = 0.00 sec. (0.08 ticks)\r\n",
      "Tried aggregator 1 time.\r\n",
      "Detecting symmetries...\r\n",
      "Reduced MIP has 336 rows, 63 columns, and 1026 nonzeros.\r\n",
      "Reduced MIP has 63 binaries, 0 generals, 0 SOSs, and 0 indicators.\r\n",
      "Presolve time = 0.00 sec. (0.68 ticks)\r\n",
      "Represolve time = 0.00 sec. (3.38 ticks)\r\n",
      "Probing time = 0.00 sec. (0.08 ticks)\r\n",
      "Clique table members: 9.\r\n",
      "MIP emphasis: balance optimality and feasibility.\r\n",
      "MIP search method: dynamic search.\r\n",
      "Parallel mode: deterministic, using up to 8 threads.\r\n",
      "Root relaxation solution time = 0.00 sec. (0.69 ticks)\r\n",
      "\r\n",
      "        Nodes                                         Cuts/\r\n",
      "   Node  Left     Objective  IInf  Best Integer    Best Bound    ItCnt     Gap\r\n",
      "\r\n",
      "*     0+    0                          108.7096       60.9344            43.95%\r\n",
      "      0     0       11.4428    21      108.7096       60.9344      133   43.95%\r\n",
      "      0     0       35.7372    33      108.7096      Cuts: 50      176   43.95%\r\n",
      "      0     0       41.6693    35      108.7096  ZeroHalf: 28      201   43.95%\r\n",
      "      0     0       47.3639    39      108.7096  ZeroHalf: 26      224   43.95%\r\n",
      "      0     0       49.3908    40      108.7096      Cuts: 32      243   43.95%\r\n",
      "      0     0       51.0190    37      108.7096  ZeroHalf: 11      267   43.95%\r\n",
      "      0     0       52.6701    37      108.7096  ZeroHalf: 16      291   43.95%\r\n",
      "      0     0       53.4075    36      108.7096  ZeroHalf: 18      308   43.95%\r\n",
      "      0     0       53.9566    38      108.7096  ZeroHalf: 24      324   43.95%\r\n",
      "      0     0        cutoff            108.7096      108.7096      324    0.00%\r\n",
      "Elapsed time = 0.14 sec. (69.00 ticks, tree = 0.01 MB, solutions = 4)\r\n"
     ]
    }
   ],
   "source": [
    "include(\"data/10_ulysses_3.tsp\")\n",
    "ms=resolution_statique(n,L,B,K,W_v,w_v,W,coordinates)\n",
    "optimize!(ms)"
   ]
  },
  {
   "cell_type": "code",
   "execution_count": null,
   "metadata": {},
   "outputs": [],
   "source": [
    "md=resolution_dualite(n,L,B,K,W_v,w_v,W,coordinates)\n",
    "optimize!(md)"
   ]
  },
  {
   "cell_type": "code",
   "execution_count": null,
   "metadata": {},
   "outputs": [],
   "source": [
    "data=[\"data/10_ulysses_3.tsp\",\"data/10_ulysses_6.tsp\",\"data/10_ulysses_9.tsp\",\"data/14_burma_3.tsp\",\"data/14_burma_6.tsp\",\"data/14_burma_9.tsp\",\"data/22_ulysses_3.tsp\",\"data/22_ulysses_6.tsp\",\"data/22_ulysses_9.tsp\"]"
   ]
  },
  {
   "cell_type": "code",
   "execution_count": 8,
   "metadata": {},
   "outputs": [
    {
     "ename": "UndefVarError",
     "evalue": "UndefVarError: data not defined",
     "output_type": "error",
     "traceback": [
      "UndefVarError: data not defined\n",
      "\n",
      "Stacktrace:\n",
      " [1] top-level scope\n",
      "   @ c:\\Users\\Rym BEN MAKTOUF\\Documents\\GitHub\\ECMA2023\\partie 2.ipynb:1"
     ]
    }
   ],
   "source": [
    "for path in data \n",
    "    open(\"results_statique.txt\",\"a\") do file \n",
    "        include(path)\n",
    "        ms=resolution_statique(n,L,B,K,W_v,w_v,W,coordinates)\n",
    "        optimize!(ms)\n",
    "        println(file,string(n)*\"&\"*string(K)*\"&\"*string(objective_value(ms))*\"&\"*string(solve_time(ms)))\n",
    "    end\n",
    "end"
   ]
  },
  {
   "cell_type": "code",
   "execution_count": 11,
   "metadata": {},
   "outputs": [],
   "source": [
    "for path in data \n",
    "    open(\"results_dualité.txt\",\"a\") do file \n",
    "        include(path)\n",
    "        ms=resolution_dualite(n,L,B,K,W_v,w_v,W,coordinates)\n",
    "        optimize!(ms)\n",
    "        println(file,string(n)*\"&\"*string(K)*\"&\"*string(objective_value(ms))*\"&\"*string(solve_time(ms)))\n",
    "    end\n",
    "end"
   ]
  }
 ],
 "metadata": {
  "kernelspec": {
   "display_name": "Julia 1.7.3",
   "language": "julia",
   "name": "julia-1.7"
  },
  "language_info": {
   "file_extension": ".jl",
   "mimetype": "application/julia",
   "name": "julia",
   "version": "1.7.3"
  },
  "orig_nbformat": 4
 },
 "nbformat": 4,
 "nbformat_minor": 2
}
