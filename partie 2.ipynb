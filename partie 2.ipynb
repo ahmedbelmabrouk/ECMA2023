{
 "cells": [
  {
   "cell_type": "code",
   "execution_count": 9,
   "metadata": {},
   "outputs": [
    {
     "data": {
      "text/plain": [
       "(10, 2, 87, 3, [1.47239, 0.82384, 0.147042, 1.11452, 1.35826, 1.95929, 1.98969, 1.54618, 2.14362, 1.6074], [4, 14, 3, 2, 20, 5, 14, 10, 10, 18], 9, [38.24 20.42; 39.57 26.15; … ; 41.23 9.1; 41.17 13.05])"
      ]
     },
     "metadata": {},
     "output_type": "display_data"
    }
   ],
   "source": [
    "include(\"data/10_ulysses_3.tsp\")\n",
    "n,L,B,K,W_v,w_v,W,coordinates"
   ]
  },
  {
   "cell_type": "code",
   "execution_count": 15,
   "metadata": {},
   "outputs": [],
   "source": [
    "using JuMP\n",
    "using CPLEX"
   ]
  },
  {
   "cell_type": "code",
   "execution_count": 8,
   "metadata": {},
   "outputs": [
    {
     "data": {
      "text/plain": [
       "distance (generic function with 1 method)"
      ]
     },
     "metadata": {},
     "output_type": "display_data"
    }
   ],
   "source": [
    "function distance(n::Int64,coordinates::Matrix{Float64})\n",
    "    l=Matrix{Float64}(zeros(n,n))\n",
    "    for i in 1:n\n",
    "        for j in 1:n\n",
    "            l[i,j]=sqrt((coordinates[i,1]-coordinates[j,1])^2+(coordinates[i,2]-coordinates[j,2])^2)\n",
    "        end \n",
    "    end \n",
    "    return l\n",
    "end"
   ]
  },
  {
   "cell_type": "code",
   "execution_count": null,
   "metadata": {},
   "outputs": [],
   "source": [
    "l=distance(n,coordinates)"
   ]
  },
  {
   "cell_type": "code",
   "execution_count": 23,
   "metadata": {},
   "outputs": [
    {
     "data": {
      "text/plain": [
       "resolution_statique (generic function with 2 methods)"
      ]
     },
     "metadata": {},
     "output_type": "display_data"
    }
   ],
   "source": [
    "function resolution_statique(n,L,B,K,W_v,w_v,W,coordinates)\n",
    "    \n",
    "    l=distance(n,coordinates)\n",
    "    m=Model(optimizer_with_attributes(CPLEX.Optimizer, \"CPX_PARAM_MIPDISPLAY\" =>2))\n",
    "    @variable(m,x[i=1:n,j=1:n],Bin)\n",
    "    @variable(m,y[i=1:n,k=1:K],Bin)\n",
    "    @constraint(m,[i=1:n,j=1:n,k=1:K],x[i,j]+y[i,k]+y[j,k]<=1)\n",
    "    @constraint(m,[i=1:n,j=1:n,k=1:K],x[i,j]-y[i,k]+y[j,k]<=1)\n",
    "    @constraint(m,[i=1:n,j=1:n,k=1:K],-x[i,j]+y[i,k]+y[j,k]<=1)\n",
    "    @constraint(m,[k=1:K],sum(w_v[i]*y[i,k] for i=1:n)<=B)\n",
    "    @constraint(m,[i=1:n],sum(y[i,k] for k=1:K)==1)\n",
    "    @objective(m,Min,sum(l[i,j]*x[i,j] for i=1:n,j=1:n))\n",
    "    return m \n",
    "end"
   ]
  },
  {
   "cell_type": "code",
   "execution_count": 24,
   "metadata": {},
   "outputs": [
    {
     "data": {
      "text/plain": [
       "resolution_dualite (generic function with 2 methods)"
      ]
     },
     "metadata": {},
     "output_type": "display_data"
    }
   ],
   "source": [
    "function resolution_dualite(n,L,B,K,W_v,w_v,W,coordinates)\n",
    "    l=distance(n,coordinates)\n",
    "    m=Model(optimizer_with_attributes(CPLEX.Optimizer, \"CPX_PARAM_MIPDISPLAY\" =>2))\n",
    "    @variable(m,alpha>=0)\n",
    "    @variable(m,beta[i=1:n,j=1:n]>=0)\n",
    "    @variable(m,x[i=1:n,j=1:n],Bin)\n",
    "    @variable(m,y[i=1:n,k=1:K],Bin)\n",
    "    @variable(m,gamma[k=1:K]>=0)\n",
    "    @variable(m,phi[i=1:n,k=1:K]>=0)\n",
    "\n",
    "\n",
    "\n",
    "    @constraint(m,[i=1:n,j=1:n,k=1:K],x[i,j]+y[i,k]+y[j,k]<=1)\n",
    "    @constraint(m,[i=1:n,j=1:n,k=1:K],x[i,j]-y[i,k]+y[j,k]<=1)\n",
    "    @constraint(m,[i=1:n,j=1:n,k=1:K],-x[i,j]+y[i,k]+y[j,k]<=1)\n",
    "    @constraint(m,[i=1:n,j=1:n],alpha+beta[i,j]>=(lh[i]+lh[j])*x[i,j])\n",
    "    @constraint(m,[k=1:K],sum(w_v[i]*y[i,k]+W_v[i]*phi[i,k] for i=1:n)+W*gamma[k]<=B)\n",
    "    @constraint(m,[i=1:n,k=1:K],gamma[k]+phi[i,k]>=w_v[i]*y[i,k])\n",
    "    @constraint(m,[i=1:n],sum(y[i,k] for k=1:K)==1)\n",
    "\n",
    "    @objective(m,Min,sum(l[i,j]*x[i,j]+3*beta[i,j] for i=1:n,j=1:n)+L*alpha)\n",
    "    return m\n",
    "end"
   ]
  },
  {
   "cell_type": "code",
   "execution_count": 25,
   "metadata": {},
   "outputs": [
    {
     "name": "stdout",
     "output_type": "stream",
     "text": [
      "Version identifier: 22.1.0.0 | 2022-03-09 | 1a383f8ce\r\n",
      "Infeasibility row 'c1':  0  = 1.\r\n",
      "Presolve time = 0.00 sec. (0.16 ticks)\r\n"
     ]
    }
   ],
   "source": [
    "include(\"data/10_ulysses_3.tsp\")\n",
    "ms=resolution_statique(n,L,B,K,W_v,w_v,W,coordinates)\n",
    "optimize!(ms)"
   ]
  },
  {
   "cell_type": "code",
   "execution_count": 22,
   "metadata": {},
   "outputs": [
    {
     "ename": "BoundsError",
     "evalue": "BoundsError: attempt to access 10×3 Matrix{VariableRef} at index [1, 4]",
     "output_type": "error",
     "traceback": [
      "BoundsError: attempt to access 10×3 Matrix{VariableRef} at index [1, 4]\n",
      "\n",
      "Stacktrace:\n",
      "  [1] getindex(::Matrix{VariableRef}, ::Int64, ::Int64)\n",
      "    @ Base .\\array.jl:862\n",
      "  [2] macro expansion\n",
      "    @ C:\\Users\\Rym BEN MAKTOUF\\.julia\\packages\\MutableArithmetics\\9dpep\\src\\rewrite.jl:322 [inlined]\n",
      "  [3] macro expansion\n",
      "    @ C:\\Users\\Rym BEN MAKTOUF\\.julia\\packages\\JuMP\\Psd1J\\src\\macros.jl:823 [inlined]\n",
      "  [4] (::var\"#97#98\")(i::Int64)\n",
      "    @ Main C:\\Users\\Rym BEN MAKTOUF\\.julia\\packages\\JuMP\\Psd1J\\src\\Containers\\macro.jl:304\n",
      "  [5] #37\n",
      "    @ C:\\Users\\Rym BEN MAKTOUF\\.julia\\packages\\JuMP\\Psd1J\\src\\Containers\\container.jl:72 [inlined]\n",
      "  [6] iterate\n",
      "    @ .\\generator.jl:47 [inlined]\n",
      "  [7] collect(itr::Base.Generator{JuMP.Containers.VectorizedProductIterator{Tuple{Base.OneTo{Int64}}}, JuMP.Containers.var\"#37#38\"{var\"#97#98\"}})\n",
      "    @ Base .\\array.jl:724\n",
      "  [8] map(f::Function, A::JuMP.Containers.VectorizedProductIterator{Tuple{Base.OneTo{Int64}}})\n",
      "    @ Base .\\abstractarray.jl:2896\n",
      "  [9] container\n",
      "    @ C:\\Users\\Rym BEN MAKTOUF\\.julia\\packages\\JuMP\\Psd1J\\src\\Containers\\container.jl:72 [inlined]\n",
      " [10] container(f::Function, indices::JuMP.Containers.VectorizedProductIterator{Tuple{Base.OneTo{Int64}}})\n",
      "    @ JuMP.Containers C:\\Users\\Rym BEN MAKTOUF\\.julia\\packages\\JuMP\\Psd1J\\src\\Containers\\container.jl:66\n",
      " [11] top-level scope\n",
      "    @ c:\\Users\\Rym BEN MAKTOUF\\Documents\\GitHub\\ECMA2023\\partie 2.ipynb:9"
     ]
    }
   ],
   "source": [
    "l=distance(n,coordinates)\n",
    "m=Model(optimizer_with_attributes(CPLEX.Optimizer, \"CPX_PARAM_MIPDISPLAY\" =>2))\n",
    "@variable(m,x[i=1:n,j=1:n],Bin)\n",
    "@variable(m,y[i=1:n,k=1:K],Bin)\n",
    "@constraint(m,[i=1:n,j=1:n,k=1:K],x[i,j]+y[i,k]+y[j,k]<=1)\n",
    "@constraint(m,[i=1:n,j=1:n,k=1:K],x[i,j]-y[i,k]+y[j,k]<=1)\n",
    "@constraint(m,[i=1:n,j=1:n,k=1:K],-x[i,j]+y[i,k]+y[j,k]<=1)\n",
    "@constraint(m,[k=1:K],sum(w_v[i]*y[i,k] for i=1:n)<=B)\n",
    "@constraint(m,[i=1:n],sum(y[i,k] for k=1:n)==1)\n",
    "@objective(m,Min,sum(l[i,j]*x[i,j] for i=1:n,j=1:n))\n",
    "optimize!(m)"
   ]
  },
  {
   "cell_type": "code",
   "execution_count": 26,
   "metadata": {},
   "outputs": [
    {
     "name": "stdout",
     "output_type": "stream",
     "text": [
      "\r\n",
      "Root node processing (before b&c):\r\n",
      "  Real time             =    0.00 sec. (0.24 ticks)\r\n",
      "Parallel b&c, 8 threads:\r\n",
      "  Real time             =    0.00 sec. (0.00 ticks)\r\n",
      "  Sync time (average)   =    0.00 sec.\r\n",
      "  Wait time (average)   =    0.00 sec.\r\n",
      "                          ------------\r\n",
      "Total (root+branch&cut) =    0.00 sec. (0.24 ticks)\r\n",
      "Version identifier: 22.1.0.0 | 2022-03-09 | 1a383f8ce\r\n",
      "Infeasibility row 'c1':  0  = 1.\r\n",
      "Presolve time = 0.00 sec. (0.19 ticks)\r\n"
     ]
    }
   ],
   "source": [
    "md=resolution_dualite(n,L,B,K,W_v,w_v,W,coordinates)\n",
    "optimize!(md)"
   ]
  }
 ],
 "metadata": {
  "kernelspec": {
   "display_name": "Julia 1.7.3",
   "language": "julia",
   "name": "julia-1.7"
  },
  "language_info": {
   "file_extension": ".jl",
   "mimetype": "application/julia",
   "name": "julia",
   "version": "1.7.3"
  },
  "orig_nbformat": 4
 },
 "nbformat": 4,
 "nbformat_minor": 2
}
