{
 "cells": [
  {
   "cell_type": "code",
   "execution_count": 2,
   "metadata": {},
   "outputs": [
    {
     "data": {
      "text/plain": [
       "(10, 2, 87, 3, [1.47239, 0.82384, 0.147042, 1.11452, 1.35826, 1.95929, 1.98969, 1.54618, 2.14362, 1.6074], [4, 14, 3, 2, 20, 5, 14, 10, 10, 18], 9, [38.24 20.42; 39.57 26.15; … ; 41.23 9.1; 41.17 13.05])"
      ]
     },
     "metadata": {},
     "output_type": "display_data"
    }
   ],
   "source": [
    "include(\"data/10_ulysses_3.tsp\")\n",
    "n,L,B,K,W_v,w_v,W,coordinates"
   ]
  },
  {
   "cell_type": "code",
   "execution_count": 3,
   "metadata": {},
   "outputs": [],
   "source": [
    "using JuMP\n",
    "using CPLEX"
   ]
  },
  {
   "cell_type": "code",
   "execution_count": 4,
   "metadata": {},
   "outputs": [
    {
     "data": {
      "text/plain": [
       "distance (generic function with 1 method)"
      ]
     },
     "metadata": {},
     "output_type": "display_data"
    }
   ],
   "source": [
    "function distance(n::Int64,coordinates::Matrix{Float64})\n",
    "    l=Matrix{Float64}(zeros(n,n))\n",
    "    for i in 1:n\n",
    "        for j in 1:n\n",
    "            l[i,j]=sqrt((coordinates[i,1]-coordinates[j,1])^2+(coordinates[i,2]-coordinates[j,2])^2)\n",
    "        end \n",
    "    end \n",
    "    return l\n",
    "end"
   ]
  },
  {
   "cell_type": "code",
   "execution_count": 5,
   "metadata": {},
   "outputs": [
    {
     "data": {
      "text/plain": [
       "10×10 Matrix{Float64}:\n",
       "  0.0        5.88233   5.42148   3.34819  …   0.720278  11.7082    7.93107\n",
       "  5.88233    0.0       1.2919    4.48743      6.06684   17.1306   13.1973\n",
       "  5.42148    1.2919    0.0       4.83011      5.74943   16.2338   12.2852\n",
       "  3.34819    4.48743   4.83011   0.0          2.96142   14.8749   11.2033\n",
       " 10.9669    16.7559   16.3883   12.8835      10.6926     7.88265   8.08926\n",
       "  8.25804   14.104    13.4684   11.007    …   8.2501     4.7976    3.71102\n",
       "  7.31222   13.0906   12.3961   10.2404       7.38505    4.89655   2.75065\n",
       "  0.720278   6.06684   5.74943   2.96142      0.0       11.9315    8.24224\n",
       " 11.7082    17.1306   16.2338   14.8749      11.9315     0.0       3.95046\n",
       "  7.93107   13.1973   12.2852   11.2033       8.24224    3.95046   0.0"
      ]
     },
     "metadata": {},
     "output_type": "display_data"
    }
   ],
   "source": [
    "l=distance(n,coordinates)"
   ]
  },
  {
   "cell_type": "code",
   "execution_count": 6,
   "metadata": {},
   "outputs": [
    {
     "data": {
      "text/plain": [
       "resolution_statique (generic function with 1 method)"
      ]
     },
     "metadata": {},
     "output_type": "display_data"
    }
   ],
   "source": [
    "function resolution_statique(n,L,B,K,W_v,w_v,W,coordinates)\n",
    "    \n",
    "    l=distance(n,coordinates)\n",
    "    m=Model(optimizer_with_attributes(CPLEX.Optimizer, \"CPX_PARAM_MIPDISPLAY\" =>2))\n",
    "    @variable(m,x[i=1:n,j=1:n],Bin)\n",
    "    @variable(m,y[i=1:n,k=1:K],Bin)\n",
    "    @constraint(m,[i=1:n,j=1:n,k=1:K],x[i,j]+y[i,k]-y[j,k]<=1)\n",
    "    @constraint(m,[i=1:n,j=1:n,k=1:K],x[i,j]-y[i,k]+y[j,k]<=1)\n",
    "    @constraint(m,[i=1:n,j=1:n,k=1:K],-x[i,j]+y[i,k]+y[j,k]<=1)\n",
    "    @constraint(m,[k=1:K],sum(w_v[i]*y[i,k] for i=1:n)<=B)\n",
    "    @constraint(m,[i=1:n],sum(y[i,k] for k=1:K)==1)\n",
    "    @objective(m,Min,sum(l[i,j]*x[i,j] for i=1:n,j=1:n))\n",
    "    return m \n",
    "end"
   ]
  },
  {
   "cell_type": "code",
   "execution_count": 7,
   "metadata": {},
   "outputs": [
    {
     "data": {
      "text/plain": [
       "resolution_dualite (generic function with 1 method)"
      ]
     },
     "metadata": {},
     "output_type": "display_data"
    }
   ],
   "source": [
    "function resolution_dualite(n,L,B,K,W_v,w_v,W,coordinates)\n",
    "    l=distance(n,coordinates)\n",
    "    m=Model(optimizer_with_attributes(CPLEX.Optimizer, \"CPX_PARAM_MIPDISPLAY\" =>2))\n",
    "    @variable(m,alpha>=0)\n",
    "    @variable(m,beta[i=1:n,j=1:n]>=0)\n",
    "    @variable(m,x[i=1:n,j=1:n],Bin)\n",
    "    @variable(m,y[i=1:n,k=1:K],Bin)\n",
    "    @variable(m,gamma[k=1:K]>=0)\n",
    "    @variable(m,phi[i=1:n,k=1:K]>=0)\n",
    "\n",
    "\n",
    "\n",
    "    @constraint(m,[i=1:n,j=1:n,k=1:K],x[i,j]+y[i,k]-y[j,k]<=1)\n",
    "    @constraint(m,[i=1:n,j=1:n,k=1:K],x[i,j]-y[i,k]+y[j,k]<=1)\n",
    "    @constraint(m,[i=1:n,j=1:n,k=1:K],-x[i,j]+y[i,k]+y[j,k]<=1)\n",
    "    @constraint(m,[i=1:n,j=1:n],alpha+beta[i,j]>=(lh[i]+lh[j])*x[i,j])\n",
    "    @constraint(m,[k=1:K],sum(w_v[i]*y[i,k]+W_v[i]*phi[i,k] for i=1:n)+W*gamma[k]<=B)\n",
    "    @constraint(m,[i=1:n,k=1:K],gamma[k]+phi[i,k]>=w_v[i]*y[i,k])\n",
    "    @constraint(m,[i=1:n],sum(y[i,k] for k=1:K)==1)\n",
    "\n",
    "    @objective(m,Min,sum(l[i,j]*x[i,j]+3*beta[i,j] for i=1:n,j=1:n)+L*alpha)\n",
    "    return m\n",
    "end"
   ]
  },
  {
   "cell_type": "code",
   "execution_count": 8,
   "metadata": {},
   "outputs": [],
   "source": []
  },
  {
   "cell_type": "code",
   "execution_count": 9,
   "metadata": {},
   "outputs": [
    {
     "name": "stdout",
     "output_type": "stream",
     "text": [
      "Version identifier: 22.1.0.0 | 2022-03-09 | 1a383f8ce\r\n",
      "Tried aggregator 1 time.\r\n",
      "MIP Presolve eliminated 270 rows and 10 columns.\r\n",
      "Reduced MIP has 2449 rows, 180 columns, and 7470 nonzeros.\r\n",
      "Reduced MIP has 180 binaries, 0 generals, 0 SOSs, and 0 indicators.\r\n",
      "Presolve time = 0.00 sec. (3.21 ticks)\r\n",
      "Found incumbent of value 25.319114 after 0.00 sec. (8.67 ticks)\r\n",
      "Probing time = 0.00 sec. (1.24 ticks)\r\n",
      "Tried aggregator 1 time.\r\n",
      "Detecting symmetries...\r\n",
      "Reduced MIP has 2449 rows, 180 columns, and 7470 nonzeros.\r\n",
      "Reduced MIP has 180 binaries, 0 generals, 0 SOSs, and 0 indicators.\r\n",
      "Presolve time = 0.02 sec. (12.02 ticks)\r\n",
      "Probing time = 0.00 sec. (1.24 ticks)\r\n",
      "Clique table members: 10.\r\n",
      "MIP emphasis: balance optimality and feasibility.\r\n",
      "MIP search method: dynamic search.\r\n",
      "Parallel mode: deterministic, using up to 8 threads.\r\n",
      "Root relaxation solution time = 0.01 sec. (3.69 ticks)\r\n",
      "\r\n",
      "        Nodes                                         Cuts/\r\n",
      "   Node  Left     Objective  IInf  Best Integer    Best Bound    ItCnt     Gap\r\n",
      "\r\n",
      "*     0+    0                           25.3191        0.0000           100.00%\r\n",
      "*     0+    0                           12.1337        0.0000           100.00%\r\n",
      "*     0+    0                            2.5838        0.0000           100.00%\r\n",
      "      0     0        0.0000    20        2.5838        0.0000       16  100.00%\r\n",
      "*     0+    0                            2.5187        0.0000           100.00%\r\n",
      "*     0+    0                            1.4406        0.0000           100.00%\r\n",
      "\r\n",
      "Repeating presolve.\r\n",
      "Tried aggregator 2 times.\r\n",
      "MIP Presolve eliminated 2441 rows and 168 columns.\r\n",
      "MIP Presolve modified 2 coefficients.\r\n",
      "Aggregator did 3 substitutions.\r\n",
      "Reduced MIP has 5 rows, 9 columns, and 15 nonzeros.\r\n",
      "Reduced MIP has 9 binaries, 0 generals, 0 SOSs, and 0 indicators.\r\n",
      "Presolve time = 0.00 sec. (1.53 ticks)\r\n",
      "Probing time = 0.00 sec. (0.00 ticks)\r\n",
      "Tried aggregator 1 time.\r\n",
      "Detecting symmetries...\r\n",
      "Reduced MIP has 5 rows, 9 columns, and 15 nonzeros.\r\n",
      "Reduced MIP has 9 binaries, 0 generals, 0 SOSs, and 0 indicators.\r\n",
      "Presolve time = 0.00 sec. (0.01 ticks)\r\n",
      "Represolve time = 0.00 sec. (1.68 ticks)\r\n",
      "Probing time = 0.00 sec. (0.00 ticks)\r\n",
      "Clique table members: 5.\r\n",
      "MIP emphasis: balance optimality and feasibility.\r\n",
      "MIP search method: dynamic search.\r\n",
      "Parallel mode: deterministic, using up to 8 threads.\r\n",
      "Root relaxation solution time = 0.00 sec. (0.01 ticks)\r\n",
      "\r\n",
      "        Nodes                                         Cuts/\r\n",
      "   Node  Left     Objective  IInf  Best Integer    Best Bound    ItCnt     Gap\r\n",
      "\r\n",
      "*     0+    0                            1.4406        0.0000           100.00%\r\n",
      "      0     0        cutoff              1.4406                     39    0.00%\r\n"
     ]
    }
   ],
   "source": [
    "include(\"data/10_ulysses_9.tsp\")\n",
    "ms=resolution_statique(n,L,B,K,W_v,w_v,W,coordinates)\n",
    "optimize!(ms)"
   ]
  },
  {
   "cell_type": "code",
   "execution_count": 10,
   "metadata": {},
   "outputs": [
    {
     "name": "stdout",
     "output_type": "stream",
     "text": [
      "\r\n",
      "Root node processing (before b&c):\r\n",
      "  Real time             =    0.11 sec. (66.76 ticks)\r\n",
      "Parallel b&c, 8 threads:\r\n",
      "  Real time             =    0.00 sec. (0.00 ticks)\r\n",
      "  Sync time (average)   =    0.00 sec.\r\n",
      "  Wait time (average)   =    0.00 sec.\r\n",
      "                          ------------\r\n",
      "Total (root+branch&cut) =    0.11 sec. (66.76 ticks)\r\n",
      "Version identifier: 22.1.0.0 | 2022-03-09 | 1a383f8ce\r\n",
      "Tried aggregator 1 time.\r\n",
      "MIP Presolve eliminated 370 rows and 111 columns.\r\n",
      "MIP Presolve modified 190 coefficients.\r\n",
      "Reduced MIP has 2539 rows, 279 columns, and 7839 nonzeros.\r\n",
      "Reduced MIP has 180 binaries, 0 generals, 0 SOSs, and 0 indicators.\r\n",
      "Presolve time = 0.00 sec. (5.08 ticks)\r\n",
      "Found incumbent of value 63.817805 after 0.00 sec. (10.89 ticks)\r\n",
      "Probing fixed 32 vars, tightened 0 bounds.\r\n",
      "Probing time = 0.00 sec. (2.61 ticks)\r\n",
      "Tried aggregator 1 time.\r\n",
      "MIP Presolve eliminated 792 rows and 32 columns.\r\n",
      "MIP Presolve modified 63 coefficients.\r\n",
      "Reduced MIP has 1747 rows, 247 columns, and 5454 nonzeros.\r\n",
      "Reduced MIP has 148 binaries, 0 generals, 0 SOSs, and 0 indicators.\r\n",
      "Presolve time = 0.02 sec. (3.44 ticks)\r\n",
      "Probing time = 0.00 sec. (1.24 ticks)\r\n",
      "Tried aggregator 1 time.\r\n",
      "Detecting symmetries...\r\n",
      "MIP Presolve added 36 rows and 0 columns.\r\n",
      "Reduced MIP has 1783 rows, 247 columns, and 5526 nonzeros.\r\n",
      "Reduced MIP has 148 binaries, 0 generals, 0 SOSs, and 0 indicators.\r\n",
      "Presolve time = 0.02 sec. (7.27 ticks)\r\n",
      "Probing time = 0.00 sec. (1.34 ticks)\r\n",
      "Cover probing fixed 0 vars, tightened 3 bounds.\r\n",
      "Clique table members: 82.\r\n",
      "MIP emphasis: balance optimality and feasibility.\r\n",
      "MIP search method: dynamic search.\r\n",
      "Parallel mode: deterministic, using up to 8 threads.\r\n",
      "Root relaxation solution time = 0.00 sec. (4.20 ticks)\r\n",
      "\r\n",
      "        Nodes                                         Cuts/\r\n",
      "   Node  Left     Objective  IInf  Best Integer    Best Bound    ItCnt     Gap\r\n",
      "\r\n",
      "*     0+    0                           63.8178       44.0000            31.05%\r\n",
      "      0     0       44.0000    22       63.8178       44.0000       92   31.05%\r\n",
      "*     0+    0                           61.6875       44.0000            28.67%\r\n",
      "*     0+    0                           55.7647       44.0000            21.10%\r\n",
      "*     0+    0                           45.4406       44.0000             3.17%\r\n",
      "Detecting symmetries...\r\n",
      "\r\n",
      "Repeating presolve.\r\n",
      "Tried aggregator 1 time.\r\n",
      "MIP Presolve eliminated 1495 rows and 55 columns.\r\n",
      "MIP Presolve modified 62 coefficients.\r\n",
      "Reduced MIP has 288 rows, 192 columns, and 1298 nonzeros.\r\n",
      "Reduced MIP has 93 binaries, 0 generals, 0 SOSs, and 0 indicators.\r\n",
      "Presolve time = 0.00 sec. (2.31 ticks)\r\n",
      "Probing fixed 0 vars, tightened 1 bounds.\r\n",
      "Probing time = 0.01 sec. (0.52 ticks)\r\n",
      "Tried aggregator 1 time.\r\n",
      "Detecting symmetries...\r\n",
      "Reduced MIP has 288 rows, 192 columns, and 1298 nonzeros.\r\n",
      "Reduced MIP has 93 binaries, 0 generals, 0 SOSs, and 0 indicators.\r\n",
      "Presolve time = 0.00 sec. (0.87 ticks)\r\n",
      "Represolve time = 0.01 sec. (4.10 ticks)\r\n",
      "Probing time = 0.00 sec. (0.52 ticks)\r\n",
      "Clique table members: 72.\r\n",
      "MIP emphasis: balance optimality and feasibility.\r\n",
      "MIP search method: dynamic search.\r\n",
      "Parallel mode: deterministic, using up to 8 threads.\r\n",
      "Root relaxation solution time = 0.00 sec. (1.10 ticks)\r\n",
      "\r\n",
      "        Nodes                                         Cuts/\r\n",
      "   Node  Left     Objective  IInf  Best Integer    Best Bound    ItCnt     Gap\r\n",
      "\r\n",
      "*     0+    0                           45.4406       44.0000             3.17%\r\n",
      "      0     0       44.0000    15       45.4406       44.0000      174    3.17%\r\n",
      "Detecting symmetries...\r\n",
      "      0     2       44.0000     6       45.4406       44.0000      174    3.17%\r\n",
      "Elapsed time = 0.13 sec. (84.92 ticks, tree = 0.02 MB, solutions = 4)\r\n"
     ]
    }
   ],
   "source": [
    "md=resolution_dualite(n,L,B,K,W_v,w_v,W,coordinates)\n",
    "optimize!(md)"
   ]
  },
  {
   "cell_type": "code",
   "execution_count": 11,
   "metadata": {},
   "outputs": [
    {
     "data": {
      "text/plain": [
       "15-element Vector{String}:\n",
       " \"data/10_ulysses_3.tsp\"\n",
       " \"data/10_ulysses_6.tsp\"\n",
       " \"data/10_ulysses_9.tsp\"\n",
       " \"data/14_burma_3.tsp\"\n",
       " \"data/14_burma_6.tsp\"\n",
       " \"data/14_burma_9.tsp\"\n",
       " \"data/22_ulysses_3.tsp\"\n",
       " \"data/22_ulysses_6.tsp\"\n",
       " \"data/22_ulysses_9.tsp\"\n",
       " \"data/26_eil_3.tsp\"\n",
       " \"data/26_eil_6.tsp\"\n",
       " \"data/26_eil_9.tsp\"\n",
       " \"data/30_eil_3.tsp\"\n",
       " \"data/30_eil_6.tsp\"\n",
       " \"data/30_eil_9.tsp\""
      ]
     },
     "metadata": {},
     "output_type": "display_data"
    }
   ],
   "source": [
    "data=[\"data/10_ulysses_3.tsp\",\"data/10_ulysses_6.tsp\",\"data/10_ulysses_9.tsp\",\"data/14_burma_3.tsp\",\"data/14_burma_6.tsp\",\"data/14_burma_9.tsp\",\"data/22_ulysses_3.tsp\",\"data/22_ulysses_6.tsp\",\"data/22_ulysses_9.tsp\",\"data/26_eil_3.tsp\",\"data/26_eil_6.tsp\",\"data/26_eil_9.tsp\",\"data/30_eil_3.tsp\",\"data/30_eil_6.tsp\",\"data/30_eil_9.tsp\"]"
   ]
  },
  {
   "cell_type": "code",
   "execution_count": 12,
   "metadata": {},
   "outputs": [],
   "source": [
    "\n",
    "for path in data \n",
    "    open(\"results_statique.txt\",\"w\") do file \n",
    "        include(path)\n",
    "        ms=resolution_statique(n,L,B,K,W_v,w_v,W,coordinates)\n",
    "        optimize!(ms)\n",
    "        println(file,string(objective_value(ms))*\"&\"*string(solve_time(ms)))\n",
    "    end\n",
    "end\n",
    "        "
   ]
  },
  {
   "cell_type": "code",
   "execution_count": null,
   "metadata": {},
   "outputs": [],
   "source": []
  }
 ],
 "metadata": {
  "kernelspec": {
   "display_name": "Julia 1.7.3",
   "language": "julia",
   "name": "julia-1.7"
  },
  "language_info": {
   "file_extension": ".jl",
   "mimetype": "application/julia",
   "name": "julia",
   "version": "1.7.3"
  },
  "orig_nbformat": 4
 },
 "nbformat": 4,
 "nbformat_minor": 2
}
